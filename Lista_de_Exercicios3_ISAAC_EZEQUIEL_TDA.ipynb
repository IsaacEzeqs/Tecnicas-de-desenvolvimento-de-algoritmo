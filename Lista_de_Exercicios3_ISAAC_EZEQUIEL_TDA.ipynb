{
  "nbformat": 4,
  "nbformat_minor": 0,
  "metadata": {
    "colab": {
      "provenance": []
    },
    "kernelspec": {
      "name": "python3",
      "display_name": "Python 3"
    },
    "language_info": {
      "name": "python"
    }
  },
  "cells": [
    {
      "cell_type": "code",
      "execution_count": null,
      "metadata": {
        "colab": {
          "base_uri": "https://localhost:8080/"
        },
        "id": "4G2GKb8tR0dF",
        "outputId": "552ea6ba-dadd-44b8-ec71-e5612f867c56"
      },
      "outputs": [
        {
          "output_type": "stream",
          "name": "stdout",
          "text": [
            "Hello Word!Hello Word!Hello Word!Hello Word!Hello Word!Hello Word!Hello Word!Hello Word!Hello Word!Hello Word!"
          ]
        }
      ],
      "source": [
        "#1. Elabore um algoritmo que imprima na tela lado a lado o texto \"Hello World!\" 10 vezes.\n",
        "\n",
        "for i in range(10):\n",
        "    print(\"Hello Word!\",end='')"
      ]
    },
    {
      "cell_type": "code",
      "source": [
        "#2. Elabore um algoritmo que imprima na tela o texto \"Hello World!\" 10 vezes, um por linha\n",
        "\n",
        "for i in range(10):\n",
        "    print(\"Hello Word!\")\n"
      ],
      "metadata": {
        "id": "LwHHpZnQT0v2"
      },
      "execution_count": null,
      "outputs": []
    },
    {
      "cell_type": "code",
      "source": [
        "#3. Elabore um algoritmo que imprima todos os números inteiros de 1 até 100 inclusive.\n",
        "\n",
        "for i in range(1, 101):\n",
        "     print(i)"
      ],
      "metadata": {
        "id": "-jUh-WCDUDpS"
      },
      "execution_count": null,
      "outputs": []
    },
    {
      "cell_type": "code",
      "source": [
        "#4. Elabore um algoritmo que imprima 100 vezes o texto \"1- Hello World!\" com o número\n",
        "\n",
        "for i in range(1, 101):\n",
        "  print(i, \"-Hello Word\")"
      ],
      "metadata": {
        "id": "fbZjBrDlUZWS"
      },
      "execution_count": null,
      "outputs": []
    },
    {
      "cell_type": "code",
      "source": [
        "#5. Elabore um algoritmo que imprima todos os números decrescentes de 100 até 0 inclusive.\n",
        "\n",
        "for i in range(100, -1, -1):\n",
        "  print(i)"
      ],
      "metadata": {
        "id": "Ke4vu7KgUyrJ"
      },
      "execution_count": null,
      "outputs": []
    },
    {
      "cell_type": "code",
      "source": [
        "#6. Elabore um algoritmo que imprima todos os números pares inteiros de 1 até 1000.\n",
        "\n",
        "for i in range(1, 1001):\n",
        "  if i % 2 == 0:\n",
        "    print(i)"
      ],
      "metadata": {
        "id": "G5Nr4k2LVEFD"
      },
      "execution_count": null,
      "outputs": []
    },
    {
      "cell_type": "code",
      "source": [
        "#7. Elabore um algoritmo que imprima todos os números ímpares de 1000 até 0\n",
        "\n",
        "for i in range(999, 0, -2):\n",
        "    print(i)"
      ],
      "metadata": {
        "id": "yXE_7EEZVakf"
      },
      "execution_count": null,
      "outputs": []
    },
    {
      "cell_type": "code",
      "source": [
        "#8. Elabore um algoritmo que imprima a soma dos 100 primeiros números inteiros positivos.\n",
        "\n",
        "soma = 0\n",
        "for i in range(1, 101):\n",
        "    soma += i\n",
        "print(\"A soma de todos os numeros inteiros até 100 é igual a\", soma)"
      ],
      "metadata": {
        "colab": {
          "base_uri": "https://localhost:8080/"
        },
        "id": "y_XOLLH1WOGj",
        "outputId": "cc7d21fe-018e-4860-cbb7-12775b4f5345"
      },
      "execution_count": null,
      "outputs": [
        {
          "output_type": "stream",
          "name": "stdout",
          "text": [
            "A soma de todos os numeros inteiros até 100 é igual a 5050\n"
          ]
        }
      ]
    },
    {
      "cell_type": "code",
      "source": [
        "#9. Elabore um algoritmo que solicite ao usuário um número inteiro que indicará a quantidade\n",
        "#de vezes que o texto \"Hello World!\" será impresso na tela, um em cada linha.\n",
        "\n",
        "n = int(input(\"Digite a quantidade de vezes que quer imprimir 'Hello World!': \"))\n",
        "for i in range(n):\n",
        "    print(\"Hello Word\")"
      ],
      "metadata": {
        "id": "f22C8BKsYcTH"
      },
      "execution_count": null,
      "outputs": []
    },
    {
      "cell_type": "code",
      "source": [
        "#10. Elabore um algoritmo que solicite ao usuário uma palavra e um número inteiro que\n",
        "#indicará a quantidade de vezes que a palavra digitada será impressa na tela, um em cada\n",
        "#linha.\n",
        "\n",
        "palavra = input(\"Digite uma palavra: \")\n",
        "n = int(input(\"Digite a quantidade de vezes que deseja imprimir a palavra: \"))\n",
        "\n",
        "for i in range(n):\n",
        "    print(palavra)"
      ],
      "metadata": {
        "id": "o20P5CpQaZ41"
      },
      "execution_count": null,
      "outputs": []
    },
    {
      "cell_type": "code",
      "source": [
        "#11. Elabore um algoritmo que leia um número de entrada que indicará a quantidade de\n",
        "#números a serem lidos. Em seguida, leia n números (conforme o valor informado\n",
        "#anteriormente) e imprima a soma e a média aritmética dos números informados.\n",
        "\n",
        "quantidade = int(input(\"Digite a quantidade de números que deseja informar: \"))\n",
        "soma = 0\n",
        "for i in range(quantidade):\n",
        "    numero = float(input(\"Digite um número: \"))\n",
        "    soma += numero\n",
        "media = soma / quantidade\n",
        "print(\"A soma dos números é igual a\", soma)\n",
        "print(\"A média dos números é igual a\", media)"
      ],
      "metadata": {
        "id": "AAeMmtJRa14k"
      },
      "execution_count": null,
      "outputs": []
    },
    {
      "cell_type": "code",
      "source": [
        "#12. Elabore um algoritmo que leia um número de entrada que indicará a quantidade de\n",
        "#registros a serem lidos (N). Em seguida algoritmo deve solicitar o nome e idade de N\n",
        "#pessoas e ao final apresentar o nome da pessoa mais velha.\n",
        "\n",
        "quantidade = int(input(\"Digite a quantidade de registros: \"))\n",
        "maior_idade = -1\n",
        "nome_mais_velho = \"\"\n",
        "for i in range(quantidade):\n",
        "    nome = input(\"Digite o nome: \")\n",
        "    idade = int(input(\"Digite a idade: \"))\n",
        "    if idade > maior_idade:\n",
        "        maior_idade = idade\n",
        "        nome_mais_velho = nome\n",
        "        print(f\"\\nA pessoa mais velha é: {nome_mais_velho}, com {maior_idade} anos.\")"
      ],
      "metadata": {
        "id": "AsLHLU-wtg_m"
      },
      "execution_count": null,
      "outputs": []
    },
    {
      "cell_type": "code",
      "source": [
        "#13. Elabore um algoritmo que leia um número de entrada que indicará a quantidade de\n",
        "#registros a serem lidos (N). Em seguida algoritmo deve solicitar o sexo (M/F) e idade de N\n",
        "#pessoas e ao final apresentar a média de idade de ambos os gêneros catalogados.\n",
        "\n",
        "# Passo 1: ler quantidade de registros\n",
        "quantidade = int(input(\"Digite a quantidade de registros: \"))\n",
        "\n",
        "# Passo 2: inicializar acumuladores\n",
        "soma_m = soma_f = 0\n",
        "cont_m = cont_f = 0\n",
        "\n",
        "# Passo 3: laço para coletar dados\n",
        "for i in range(quantidade):\n",
        "    sexo = input(f\"Digite o sexo da {i+1}ª pessoa (M/F): \").strip().upper()\n",
        "    idade = int(input(f\"Digite a idade da {i+1}ª pessoa: \"))\n",
        "\n",
        "    if sexo == \"M\":\n",
        "        soma_m += idade\n",
        "        cont_m += 1\n",
        "    elif sexo == \"F\":\n",
        "        soma_f += idade\n",
        "        cont_f += 1\n",
        "    else:\n",
        "        print(\"Sexo inválido! Registro ignorado.\")\n",
        "\n",
        "# Passo 4: calcular médias\n",
        "if cont_m > 0:\n",
        "    media_m = soma_m / cont_m\n",
        "else:\n",
        "    media_m = None\n",
        "\n",
        "if cont_f > 0:\n",
        "    media_f = soma_f / cont_f\n",
        "else:\n",
        "    media_f = None\n",
        "\n",
        "# Passo 5: exibir resultados\n",
        "print(\"\\n--- Resultado ---\")\n",
        "if media_m is not None:\n",
        "    print(f\"Média de idade dos homens: {media_m:.2f}\")\n",
        "else:\n",
        "    print(\"Não foram cadastrados homens.\")\n",
        "\n",
        "if media_f is not None:\n",
        "    print(f\"Média de idade das mulheres: {media_f:.2f}\")\n",
        "else:\n",
        "    print(\"Não foram cadastradas mulheres.\")"
      ],
      "metadata": {
        "id": "t26dwt_duIBk"
      },
      "execution_count": null,
      "outputs": []
    },
    {
      "cell_type": "code",
      "source": [
        "#14. Elabore um algoritmo que solicite ao usuário 10 números reais e ao final apresente o\n",
        "#maior e o menor deles.\n",
        "\n",
        "# Lista para armazenar os 10 números\n",
        "numeros = []\n",
        "\n",
        "# Ler 10 números reais\n",
        "for i in range(10):\n",
        "    num = float(input(f\"Digite o {i+1}º número: \"))\n",
        "    numeros.append(num)\n",
        "\n",
        "# Calcular maior e menor\n",
        "maior = max(numeros)\n",
        "menor = min(numeros)\n",
        "\n",
        "# Exibir resultado\n",
        "print(\"\\n--- Resultado ---\")\n",
        "print(f\"O maior número é: {maior}\")\n",
        "print(f\"O menor número é: {menor}\")"
      ],
      "metadata": {
        "id": "LaDsSLYxvJqB"
      },
      "execution_count": null,
      "outputs": []
    },
    {
      "cell_type": "code",
      "source": [
        "#15. Elabore um algoritmo que solicite N números reais e quando o usuário informar o valor\n",
        "#nulo 0 (zero) o programa ordene e mostre todos os números informados de forma crescente.\n",
        "\n",
        "# Lista para armazenar os números\n",
        "numeros = []\n",
        "\n",
        "print(\"Digite números reais (digite 0 para encerrar):\")\n",
        "\n",
        "while True:\n",
        "    num = float(input(\"Digite um número: \"))\n",
        "    if num == 0:\n",
        "        break  # Encerra quando o usuário digitar 0\n",
        "    numeros.append(num)\n",
        "\n",
        "# Ordenar a lista\n",
        "numeros.sort()\n",
        "\n",
        "# Mostrar resultado\n",
        "print(\"\\n--- Resultado ---\")\n",
        "if numeros:  # verifica se a lista não está vazia\n",
        "    print(\"Números em ordem crescente:\", numeros)\n",
        "else:\n",
        "    print(\"Nenhum número foi informado.\")"
      ],
      "metadata": {
        "id": "zJ7QNm9fvfGH"
      },
      "execution_count": null,
      "outputs": []
    },
    {
      "cell_type": "code",
      "source": [
        "#16. Escreva um programa que vá solicitando as idades dos alunos da sala até que todos\n",
        "#sejam informados (perguntar ao usuário se deseja informar a idade do próximo aluno). Ao\n",
        "#final apresentar a idade do mais novo, a idade do mais velho, Quantos alunos têm mais de\n",
        "#18 anos, quantos alunos têm até 18 anos, a média aritmética e a mediana.\n",
        "\n",
        "# Lista para armazenar as idades\n",
        "idades = []\n",
        "\n",
        "print(\"Informe as idades dos alunos. Digite 'n' quando não quiser mais continuar.\\n\")\n",
        "\n",
        "while True:\n",
        "    idade = int(input(\"Digite a idade do aluno: \"))\n",
        "    idades.append(idade)\n",
        "\n",
        "    continuar = input(\"Deseja informar a idade do próximo aluno? (s/n): \").strip().lower()\n",
        "    if continuar == 'n':\n",
        "        break\n",
        "\n",
        "# Garantir que temos dados\n",
        "if idades:\n",
        "    # Ordena a lista\n",
        "    idades.sort()\n",
        "\n",
        "    # Mais novo e mais velho\n",
        "    mais_novo = idades[0]\n",
        "    mais_velho = idades[-1]\n",
        "\n",
        "    # Contagem de maiores e menores de idade\n",
        "    maiores_18 = sum(1 for i in idades if i > 18)\n",
        "    menores_ou_18 = sum(1 for i in idades if i <= 18)\n",
        "\n",
        "    # Média aritmética\n",
        "    media = sum(idades) / len(idades)\n",
        "\n",
        "    # Mediana\n",
        "    n = len(idades)\n",
        "    if n % 2 == 1:  # ímpar\n",
        "        mediana = idades[n // 2]\n",
        "    else:  # par\n",
        "        mediana = (idades[n // 2 - 1] + idades[n // 2]) / 2\n",
        "\n",
        "    # Resultado final\n",
        "    print(\"\\n--- Resultado ---\")\n",
        "    print(f\"Mais novo: {mais_novo} anos\")\n",
        "    print(f\"Mais velho: {mais_velho} anos\")\n",
        "    print(f\"Alunos com mais de 18 anos: {maiores_18}\")\n",
        "    print(f\"Alunos com até 18 anos: {menores_ou_18}\")\n",
        "    print(f\"Média das idades: {media:.2f}\")\n",
        "    print(f\"Mediana das idades: {mediana}\")\n",
        "else:\n",
        "    print(\"Nenhuma idade foi informada.\")"
      ],
      "metadata": {
        "id": "XL5ayP5CvsbH"
      },
      "execution_count": null,
      "outputs": []
    }
  ]
}