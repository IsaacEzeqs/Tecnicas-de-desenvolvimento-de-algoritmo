{
  "nbformat": 4,
  "nbformat_minor": 0,
  "metadata": {
    "colab": {
      "provenance": []
    },
    "kernelspec": {
      "name": "python3",
      "display_name": "Python 3"
    },
    "language_info": {
      "name": "python"
    }
  },
  "cells": [
    {
      "cell_type": "code",
      "execution_count": null,
      "metadata": {
        "colab": {
          "base_uri": "https://localhost:8080/"
        },
        "id": "uZF5hXQiPJEU",
        "outputId": "ae6b128e-89fe-4aae-92f7-2fdfbe0767fc"
      },
      "outputs": [
        {
          "output_type": "stream",
          "name": "stdout",
          "text": [
            "digite numero real22\n",
            "o numero real maior que 10\n"
          ]
        }
      ],
      "source": [
        "# 1. Elabore um programa que solicite ao usuário um número real e ao final imprima na tela se o\n",
        "numReal = float(input(\"digite numero real\"))\n",
        "if numReal >10:\n",
        "  print (\"o numero real maior que 10\")\n"
      ]
    },
    {
      "cell_type": "code",
      "source": [
        "# 3. Elabore um algoritmo que solicite ao usuário um número real e ao final imprima na tela se onúmero informado é maior que dez, se é menor que dez, ou se é igual a dez\n",
        "\n",
        "numReal = float(input(\"digite numero real\"))\n",
        "if numReal > 10:\n",
        "    print(\"o numero real maior que 10\")\n",
        "elif numReal == 10:\n",
        "    print (\"o numero é igual a 10\")\n",
        "else:\n",
        "    print(\"o numero é menor a 10\")"
      ],
      "metadata": {
        "id": "AnGmy_kdVVFT",
        "colab": {
          "base_uri": "https://localhost:8080/"
        },
        "outputId": "caacd12e-67de-4259-d53f-553d5224aeef"
      },
      "execution_count": null,
      "outputs": [
        {
          "output_type": "stream",
          "name": "stdout",
          "text": [
            "digite numero real10\n",
            "o numero é igual a 10\n"
          ]
        }
      ]
    },
    {
      "cell_type": "code",
      "source": [
        "#4. Elabore um algoritmo que solicite ao usuário um número real e ao final imprima na tela se o\n",
        "#número informado é positivo, negativo ou nulo (zero)\n",
        "\n",
        "numReal = float(input(\"digite numero real\"))\n",
        "if numReal > 0:\n",
        "      print(\"numero é positivo\")\n",
        "elif numReal < 0:\n",
        "      print(\"numero é negativo\")\n",
        "elif numReal == 0:\n",
        "      print(\"numero é nulo\")\n"
      ],
      "metadata": {
        "colab": {
          "base_uri": "https://localhost:8080/"
        },
        "id": "CURb3PXQWKp3",
        "outputId": "51bb3d44-bc86-48b5-d649-75f1d13d2af6"
      },
      "execution_count": null,
      "outputs": [
        {
          "output_type": "stream",
          "name": "stdout",
          "text": [
            "digite numero real-10\n",
            "numero é negativo\n"
          ]
        }
      ]
    },
    {
      "cell_type": "code",
      "source": [
        "# 5. Elabore um algoritmo que leia um número inteiro e imprima uma das mensagens: é múltiplo\n",
        "#de 3, ou, não é múltiplo de 3\n",
        "\n",
        "numInteiro = int(input(\"digite numero inteiro\"))\n",
        "if numInteiro % 3 == 0:\n",
        "    print(\"é multiplo de 3\")\n",
        "else:\n",
        "    print(\"não é multiplo de 3\")"
      ],
      "metadata": {
        "colab": {
          "base_uri": "https://localhost:8080/"
        },
        "id": "4x4Yc6pyd5np",
        "outputId": "e62d78fc-f723-4924-af7c-1ced37b0e847"
      },
      "execution_count": null,
      "outputs": [
        {
          "output_type": "stream",
          "name": "stdout",
          "text": [
            "digite numero inteiro9\n",
            "é multiplo de 3\n"
          ]
        }
      ]
    },
    {
      "cell_type": "code",
      "source": [
        "# 6. Refazer o exercício anterior, solicitando antes o múltiplo a ser testado\n",
        "numInteiro = int(input(\"digite numero inteiro\"))\n",
        "multiplo = int(input(\"Digite o número para testar se é múltiplo: \"))\n",
        "if numInteiro % multiplo == 0:\n",
        "    print(f\"{numInteiro} é múltiplo de {multiplo}\")\n",
        "else:\n",
        "    print(f\"{numInteiro} não é múltiplo de {multiplo}\")\n",
        "\n"
      ],
      "metadata": {
        "colab": {
          "base_uri": "https://localhost:8080/"
        },
        "id": "aCM8EWIrbBDW",
        "outputId": "69bd430a-7279-4b33-8fc7-f8bc2532762e"
      },
      "execution_count": null,
      "outputs": [
        {
          "output_type": "stream",
          "name": "stdout",
          "text": [
            "digite numero inteiro20\n",
            "Digite o número para testar se é múltiplo: 2\n",
            "20 é múltiplo de 2\n"
          ]
        }
      ]
    },
    {
      "cell_type": "code",
      "source": [
        "#7. Desenvolva um algoritmo que classifique um número inteiro fornecido pelo usuário como\n",
        "#par ou ímpar\n",
        "numInteiro = int(input(\"digite numero inteiro\"))\n",
        "if numInteiro % 2 == 0:\n",
        "      print(\"é par\")\n",
        "else:\n",
        "      print(\"é impar\")"
      ],
      "metadata": {
        "colab": {
          "base_uri": "https://localhost:8080/"
        },
        "id": "zA5B7jeSbuh9",
        "outputId": "440e052d-d3ef-4d09-f560-4ea5dc8adba3"
      },
      "execution_count": null,
      "outputs": [
        {
          "output_type": "stream",
          "name": "stdout",
          "text": [
            "digite numero inteiro3\n",
            "é impar\n"
          ]
        }
      ]
    },
    {
      "cell_type": "code",
      "source": [
        "from os import NGROUPS_MAX\n",
        "#8. Elabore um algoritmo que leia um número, e se ele for maior do que 20, imprimir a metade\n",
        "#desse número, caso contrário, imprimir o dobro do número\n",
        "\n",
        "numInteiro = int(input(\"digite numero inteiro\"))\n",
        "if numInteiro > 20:\n",
        "      print(\"metade do numero\", numInteiro / 2)\n",
        "else:\n",
        "      print(\"dobro do numero\", numInteiro * 2)"
      ],
      "metadata": {
        "colab": {
          "base_uri": "https://localhost:8080/"
        },
        "id": "sF3TUKcTeTPb",
        "outputId": "568aa648-12ed-4a64-a3b5-8b0ae6e74d3f"
      },
      "execution_count": null,
      "outputs": [
        {
          "output_type": "stream",
          "name": "stdout",
          "text": [
            "digite numero inteiro21\n",
            "metade do numero 10.5\n"
          ]
        }
      ]
    },
    {
      "cell_type": "code",
      "source": [
        "#9. Elabore um algoritmo que leia dois números inteiros e realize a adição; caso o resultado\n",
        "#seja maior que 10, imprima o quadrado do resultado, caso contrário, imprima a metade dele\n",
        "\n",
        "numInteiro1 = int(input(\"digite numero inteiro\"))\n",
        "numInteiro2 = int(input(\"digite numero inteiro\"))\n",
        "\n",
        "soma = numInteiro1 + numInteiro2\n",
        "if soma > 10:\n",
        "      print(\"quadrado do resultado\", soma ** 2)\n",
        "else:\n",
        "      print(\"metade do resultado\", soma / 2)\n"
      ],
      "metadata": {
        "colab": {
          "base_uri": "https://localhost:8080/"
        },
        "id": "fWDhUe7Ee1tc",
        "outputId": "a6f226bf-e530-417e-e778-03fd2a7838ff"
      },
      "execution_count": null,
      "outputs": [
        {
          "output_type": "stream",
          "name": "stdout",
          "text": [
            "digite numero inteiro2\n",
            "digite numero inteiro2\n",
            "metade do resultado 2.0\n"
          ]
        }
      ]
    },
    {
      "cell_type": "code",
      "source": [
        "#10. O sistema de avaliação de determinada disciplina é composto por três provas. A primeira\n",
        "#prova tem peso 2, a segunda tem peso 3 e a terceira tem peso 5. Considerando que a\n",
        "#média para aprovação é 6.0, faça um algoritmo para calcular a média final de um aluno\n",
        "#desta disciplina e dizer se o aluno foi aprovado ou não\n",
        "\n",
        "prova1 = float(input(\"digite nota prova 1\"))\n",
        "prova2 = float(input(\"digite nota prova 2\"))\n",
        "prova3 = float(input(\"digite nota prova 3\"))\n",
        "\n",
        "peso1 = 2\n",
        "peso2 = 3\n",
        "peso3 = 5\n",
        "\n",
        "media = (prova1 * peso1 + prova2 * peso2 + prova3 * peso3) / (peso1 + peso2 + peso3)\n",
        "print(\"Média final:\", media)\n",
        "\n",
        "if media >= 6.0:\n",
        "    print(\"Aluno APROVADO\")\n",
        "\n",
        "else:\n",
        "    print(\"Aluno REPROVADO\")\n"
      ],
      "metadata": {
        "colab": {
          "base_uri": "https://localhost:8080/"
        },
        "id": "l0pjwy9QfdPS",
        "outputId": "9763df9a-2272-4dc4-9dd5-9f58edc435f3"
      },
      "execution_count": null,
      "outputs": [
        {
          "output_type": "stream",
          "name": "stdout",
          "text": [
            "digite nota prova 110\n",
            "digite nota prova 27\n",
            "digite nota prova 38\n",
            "Média final: 8.1\n",
            "Aluno APROVADO\n"
          ]
        }
      ]
    },
    {
      "cell_type": "code",
      "source": [
        "#11. Elabore um algoritmo que leia o nome e o peso de duas pessoas e imprima o nome da\n",
        "#pessoa mais pesada\n",
        "\n",
        "nome1 = input(\"Digite o nome da primeira pessoa: \")\n",
        "peso1 = float(input(\"Digite o peso da primeira pessoa: \"))\n",
        "\n",
        "nome2 = input(\"Digite o nome da segunda pessoa: \")\n",
        "peso2 = float(input(\"Digite o peso da segunda pessoa: \"))\n",
        "\n",
        "if peso1 > peso2:\n",
        "    print(f\"A pessoa mais pesada é {nome1} com {peso1} kg\")\n",
        "elif peso2 > peso1:\n",
        "    print(f\"A pessoa mais pesada é {nome2} com {peso2} kg\")\n",
        "else:\n",
        "    print(f\"As duas pessoas ({nome1} e {nome2}) têm o mesmo peso: {peso1} kg\")\n",
        "\n",
        "\n"
      ],
      "metadata": {
        "colab": {
          "base_uri": "https://localhost:8080/"
        },
        "id": "ymCI-LeRhHc_",
        "outputId": "8e0ab46e-0cbe-4964-ff2a-c9de9681692b"
      },
      "execution_count": null,
      "outputs": [
        {
          "output_type": "stream",
          "name": "stdout",
          "text": [
            "Digite o nome da primeira pessoa: Isaac\n",
            "Digite o peso da primeira pessoa: 90\n",
            "Digite o nome da segunda pessoa: Emilly\n",
            "Digite o peso da segunda pessoa: 70\n",
            "A pessoa mais pesada é Isaac com 90.0 kg\n"
          ]
        }
      ]
    },
    {
      "cell_type": "code",
      "source": [
        "#12. Elabore um algoritmo que indique se um número digitado está compreendido entre 20 e\n",
        "#90, ou não\n",
        "\n",
        "numInteiro = int(input(\"digite numero inteiro\"))\n",
        "\n",
        "if numInteiro >= 20 and numInteiro <= 90:\n",
        "    print(\"O número está entre 20 e 90\")\n",
        "\n",
        "else:\n",
        "    print(\"O número NÃO está entre 20 e 90\")\n",
        "\n"
      ],
      "metadata": {
        "colab": {
          "base_uri": "https://localhost:8080/"
        },
        "id": "WHFHUVTMk-jx",
        "outputId": "ab22b553-2331-457b-9f66-709f44cf333b"
      },
      "execution_count": null,
      "outputs": [
        {
          "output_type": "stream",
          "name": "stdout",
          "text": [
            "digite numero inteiro30\n",
            "O número está entre 20 e 90\n"
          ]
        }
      ]
    },
    {
      "cell_type": "code",
      "source": [
        "#13. Elabore um algoritmo que leia dois números e imprima qual é maior, qual é menor, ou se\n",
        "#são iguais\n",
        "\n",
        "num1 = int(input(\"Digite o primeiro número: \"))\n",
        "num2 = int(input(\"Digite o segundo número: \"))\n",
        "\n",
        "if num1 > num2:\n",
        "    print(f\"O maior número é {num1} e o menor é {num2}\")\n",
        "elif num2 > num1:\n",
        "    print(f\"O maior número é {num2} e o menor é {num1}\")\n",
        "else:\n",
        "    print(\"Os dois números são iguais\")"
      ],
      "metadata": {
        "colab": {
          "base_uri": "https://localhost:8080/"
        },
        "id": "fWfSorSjlvmv",
        "outputId": "2d75b438-0bc8-4537-9b21-9c33a0112e06"
      },
      "execution_count": null,
      "outputs": [
        {
          "output_type": "stream",
          "name": "stdout",
          "text": [
            "Digite o primeiro número: 2\n",
            "Digite o segundo número: 2\n",
            "Os dois números são iguais\n"
          ]
        }
      ]
    },
    {
      "cell_type": "code",
      "source": [
        "#14. Escreva um programa em linguagem C que solicite ao usuário a média para aprovação\n",
        "#em um curso e em seguida solicite ao usuário o nome, sexo e as 03 notas do aluno e ao\n",
        "#final imprima a frase: \"O aluno XXXXX foi aprovado com media YY\" considerando o gênero\n",
        "#do(a) aluno(a) e se foi aprovado(a) ou reprovado(a)\n",
        "\n",
        "int main() {\n",
        "    float mediaAprovacao, nota1, nota2, nota3, media;\n",
        "    char nome[50];\n",
        "    char sexo;\n",
        "\n",
        "    // Entrada da média necessária\n",
        "    printf(\"Digite a media para aprovacao: \");\n",
        "    scanf(\"%f\", &mediaAprovacao);\n",
        "\n",
        "    // Entrada dos dados do aluno\n",
        "    printf(\"Digite o nome do aluno: \");\n",
        "    scanf(\" %[^\\n]\", nome); // lê string com espaços\n",
        "\n",
        "    printf(\"Digite o sexo do aluno (M/F): \");\n",
        "    scanf(\" %c\", &sexo);\n",
        "\n",
        "    printf(\"Digite a primeira nota: \");\n",
        "    scanf(\"%f\", &nota1);\n",
        "\n",
        "    printf(\"Digite a segunda nota: \");\n",
        "    scanf(\"%f\", &nota2);\n",
        "\n",
        "    printf(\"Digite a terceira nota: \");\n",
        "    scanf(\"%f\", &nota3);\n",
        "\n",
        "    // Cálculo da média\n",
        "    media = (nota1 + nota2 + nota3) / 3;\n",
        "\n",
        "    // Verificação de aprovação\n",
        "    if (media >= mediaAprovacao) {\n",
        "        if (sexo == 'M' || sexo == 'm') {\n",
        "            printf(\"O aluno %s foi aprovado com media %.2f\\n\", nome, media);\n",
        "        } else {\n",
        "            printf(\"A aluna %s foi aprovada com media %.2f\\n\", nome, media);\n",
        "        }\n",
        "    } else {\n",
        "        if (sexo == 'M' || sexo == 'm') {\n",
        "            printf(\"O aluno %s foi reprovado com media %.2f\\n\", nome, media);\n",
        "        } else {\n",
        "            printf(\"A aluna %s foi reprovada com media %.2f\\n\", nome, media);\n",
        "        }\n",
        "    }\n",
        "\n",
        "    return 0;\n",
        "}"
      ],
      "metadata": {
        "colab": {
          "base_uri": "https://localhost:8080/",
          "height": 106
        },
        "id": "mYtTLsiYmJFA",
        "outputId": "aea0378c-79e5-4ebb-9a1e-fe4847368126"
      },
      "execution_count": null,
      "outputs": [
        {
          "output_type": "error",
          "ename": "SyntaxError",
          "evalue": "invalid syntax (ipython-input-1257587688.py, line 6)",
          "traceback": [
            "\u001b[0;36m  File \u001b[0;32m\"/tmp/ipython-input-1257587688.py\"\u001b[0;36m, line \u001b[0;32m6\u001b[0m\n\u001b[0;31m    int main() {\u001b[0m\n\u001b[0m        ^\u001b[0m\n\u001b[0;31mSyntaxError\u001b[0m\u001b[0;31m:\u001b[0m invalid syntax\n"
          ]
        }
      ]
    }
  ]
}